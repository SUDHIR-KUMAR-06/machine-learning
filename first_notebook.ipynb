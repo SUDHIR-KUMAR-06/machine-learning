{
 "cells": [
  {
   "cell_type": "code",
   "execution_count": 2,
   "id": "6508e0b2",
   "metadata": {},
   "outputs": [
    {
     "name": "stdout",
     "output_type": "stream",
     "text": [
      "hello sudhir\n"
     ]
    }
   ],
   "source": [
    "print(\"hello sudhir\")"
   ]
  },
  {
   "cell_type": "markdown",
   "id": "6a9ddd27",
   "metadata": {},
   "source": [
    "# hello\n",
    " this is markdown\n",
    "- A\n",
    "- B\n",
    "- Esc + M + shift + enter\n"
   ]
  },
  {
   "cell_type": "code",
   "execution_count": 6,
   "id": "cfccafe3",
   "metadata": {},
   "outputs": [
    {
     "name": "stdout",
     "output_type": "stream",
     "text": [
      "hi\n"
     ]
    }
   ],
   "source": [
    "print(\"hi\")\n",
    "# Esc+y+shift+enter"
   ]
  },
  {
   "cell_type": "code",
   "execution_count": null,
   "id": "195950ef",
   "metadata": {},
   "outputs": [],
   "source": []
  }
 ],
 "metadata": {
  "kernelspec": {
   "display_name": "Python 3 (ipykernel)",
   "language": "python",
   "name": "python3"
  },
  "language_info": {
   "codemirror_mode": {
    "name": "ipython",
    "version": 3
   },
   "file_extension": ".py",
   "mimetype": "text/x-python",
   "name": "python",
   "nbconvert_exporter": "python",
   "pygments_lexer": "ipython3",
   "version": "3.11.1"
  }
 },
 "nbformat": 4,
 "nbformat_minor": 5
}
